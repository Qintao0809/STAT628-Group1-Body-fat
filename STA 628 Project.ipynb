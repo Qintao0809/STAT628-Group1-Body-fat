{
 "cells": [
  {
   "cell_type": "markdown",
   "metadata": {},
   "source": [
    "# Background \n",
    "\n",
    "Measurement of body fat can be inconvenient and expensive, thus we aim to construct a simple and accurate model which can be used to predict the body fat. In the body fat dataset, we have 252 male with measurements of percentage of their body fat and various body circumferences. \n",
    "\n",
    "The listed variables are percent body fat, density, age, weight, height, adiposity, neck circumference, chest circumference, abdomen circumference, hip circumference, thigh circumference, knee circumference, ankle circumference, ankle circumference, biceps circumference, forearm circumference, wrist circumference. In total, we have 14 variables."
   ]
  },
  {
   "cell_type": "code",
   "execution_count": 41,
   "metadata": {},
   "outputs": [],
   "source": [
    "#please hide this block\n",
    "library(ggplot2)\n",
    "library(Boruta)\n",
    "library(dbplyr)\n",
    "library(relaimpo)\n",
    "library(leaps)\n",
    "library(glmnet)\n",
    "library(olsrr)\n",
    "library(boot)\n",
    "setwd('~/Desktop/628')\n",
    "data <- read.csv(\"BodyFat.csv\",header=TRUE,sep=',')\n",
    "dataset <- read.csv(\"BodyFat_clean.csv\",header=TRUE,sep=',')"
   ]
  },
  {
   "cell_type": "markdown",
   "metadata": {},
   "source": [
    "# Step 1: Preprocessing the data\n",
    "\n",
    "By looking at the summary table of our dataset, we can have a general idea. There exists some abnormal points which be potential outliers of the bodyfat dataset: \n",
    "* The minimum value of body fat is 0.\n",
    "* The minimum value of density is 0.995 which is lighter than water. \n",
    "* There is a man as old as 81.\n",
    "* There is an overweight person whose weight is 363Ibs.\n",
    "\n",
    "In order to detect all the outliers, we first consider Siri's Equation,   $$ BodyFat = \\frac{495}{Density}-450  $$\n",
    "We plot the actual bodyfat percentage in the dataset against the bodyfat percentage calculated by Siri's Equation. From the plot, we can tell that point 48, 76, 96 and 182 are far off the line. \n",
    "* For the point 48, the bodyfat caluculated by Siri is 14.1%, so we change 6.4% to 14.1% ; for the point 76, the bodyfat calculated by Siri is 14.1%, so we change 18.3% to 14.1%.\n",
    "* For the point 96, the bodyfat calculated by siri is 0.4%, while other circumferences measurements are resonable, so the density value may be incorrectly recorded, thus we decide to keep the original BodyFat value.\n",
    "* For the point 182, the bodyfat calculated by siri is -3.6%, thus the records of bodyfat and density may be wrong, thus we can use the information of other measurements to impute this datapoint. We check the correctness of ADIPOSITY, HEIGHT and WEIGHT by using the equation \n",
    "$$ADIPOSITY = 703\\cdot \\frac{WEIGHT(lbs)}{HEIGHT^2(inches^2)} = 703\\cdot 118.5/68^2 = 18.02$$ which is approximately equal to 18.1. So we conclude that the value of ADIPOSITY, HEIGHT and WEIGHT are true. Next we use ADIPOSITY to evaluate BODYFAT.We estimate one's body by using $$BodyFat = 1.2*BMI + 0.23 * Age -10.8 Sex -5.4 ^{[1]}$$ thus we impute the value 14.7%.\n",
    "\n",
    "In addition, by looking at the boxplot, we easily identify there are two people whose measurements seem to be very large compared to other datapoints, point 39 (large circumferences) and 42 (extremely short).\n",
    "* For the point 39, all the circumference measurements are relatively large to other people, so we decide to remove this point.\n",
    "* For the point 42, the height is 29.5 while other measurements are reasonable, thus we use BMI formula to recalculate its value and impute it as 69.43."
   ]
  },
  {
   "cell_type": "code",
   "execution_count": 58,
   "metadata": {},
   "outputs": [],
   "source": [
    "#Siri's Equation\n",
    "#siri=495/data$DENSITY-450\n",
    "#plot(data$BODYFAT ~ siri, ylab = \"real bodyfat\", xlab = \"siri's bodyfat\", main = \"Figure 1\")\n",
    "#text(-3.6,1,\"182\",col = \"red\",);text(0.5,18.5,\"96\",col = \"red\");text(14,19.5,\"76\",col = \"red\");text(14,5,\"48\",col = \"red\")"
   ]
  },
  {
   "cell_type": "markdown",
   "metadata": {},
   "source": [
    "<img src=\"Siri%E2%80%99s%20Equation.png\" width=400>\n",
    "<img src=\"Boxplot.png\" width=700>"
   ]
  },
  {
   "cell_type": "code",
   "execution_count": 59,
   "metadata": {},
   "outputs": [],
   "source": [
    "#data_reshape <- scale(data$BODYFAT, center = T, scale = T)\n",
    "#cname <- colnames(data)[c(-1,-3)]\n",
    "#for (i in 4:(length(cname)+2)) {\n",
    "#  data_reshape <- c(data_reshape, scale(data[,i], center = T, scale = T))\n",
    "#}\n",
    "#data_2 <- data.frame(data = data_reshape, variable = rep(cname, each = nrow(data)), \n",
    "#                     idno = rep(data$IDNO, length(cname)))\n",
    "#is_outlier <- function(x) {\n",
    "#  return(x < quantile(x, 0.25) - 1.5 * IQR(x) | x > quantile(x, 0.75) + 1.5 * IQR(x))\n",
    "#}\n",
    "#data_2 %>% \n",
    "#  group_by(variable) %>%\n",
    "#  mutate(outlier = ifelse(is_outlier(data), idno, as.numeric(NA))) %>%\n",
    "#  ggplot(., aes(x = variable, y = data)) + \n",
    "#  geom_boxplot(outlier.color = \"red\", outlier.size = 1, outlier.shape = 4) + \n",
    "#  geom_text(aes(label = outlier), na.rm = TRUE, hjust = -0.3, size = 3) +\n",
    "#  labs(title = \"Boxplot of Every Variable After Normalization\", x = \"Variables\", y = \"Data\") +\n",
    "#  theme(plot.title = element_text(hjust = 0.5))"
   ]
  },
  {
   "cell_type": "code",
   "execution_count": 44,
   "metadata": {},
   "outputs": [
    {
     "data": {
      "text/html": [
       "<table>\n",
       "<thead><tr><th></th><th scope=col>IDNO</th><th scope=col>BODYFAT</th><th scope=col>DENSITY</th><th scope=col>AGE</th><th scope=col>WEIGHT</th><th scope=col>HEIGHT</th><th scope=col>ADIPOSITY</th><th scope=col>NECK</th><th scope=col>CHEST</th><th scope=col>ABDOMEN</th><th scope=col>HIP</th><th scope=col>THIGH</th><th scope=col>KNEE</th><th scope=col>ANKLE</th><th scope=col>BICEPS</th><th scope=col>FOREARM</th><th scope=col>WRIST</th></tr></thead>\n",
       "<tbody>\n",
       "\t<tr><th scope=row>39</th><td> 39   </td><td>33.8  </td><td>1.0202</td><td>46    </td><td>363.15</td><td>72.25 </td><td>48.9  </td><td>51.2  </td><td>136.2 </td><td>148.1 </td><td>147.7 </td><td>87.3  </td><td>49.1  </td><td>29.6  </td><td>45.0  </td><td>29.0  </td><td>21.4  </td></tr>\n",
       "\t<tr><th scope=row>42</th><td> 42   </td><td>31.7  </td><td>1.0250</td><td>44    </td><td>205.00</td><td>29.50 </td><td>29.9  </td><td>36.6  </td><td>106.0 </td><td>104.3 </td><td>115.5 </td><td>70.6  </td><td>42.5  </td><td>23.7  </td><td>33.6  </td><td>28.7  </td><td>17.4  </td></tr>\n",
       "\t<tr><th scope=row>48</th><td> 48   </td><td> 6.4  </td><td>1.0665</td><td>39    </td><td>148.50</td><td>71.25 </td><td>20.6  </td><td>34.6  </td><td> 89.8 </td><td> 79.5 </td><td> 92.7 </td><td>52.7  </td><td>37.5  </td><td>21.9  </td><td>28.8  </td><td>26.8  </td><td>17.9  </td></tr>\n",
       "\t<tr><th scope=row>76</th><td> 76   </td><td>18.3  </td><td>1.0666</td><td>61    </td><td>148.25</td><td>67.50 </td><td>22.9  </td><td>36.0  </td><td> 91.6 </td><td> 81.8 </td><td> 94.8 </td><td>54.5  </td><td>37.0  </td><td>21.4  </td><td>29.3  </td><td>27.0  </td><td>18.3  </td></tr>\n",
       "\t<tr><th scope=row>96</th><td> 96   </td><td>17.3  </td><td>1.0991</td><td>53    </td><td>224.50</td><td>77.75 </td><td>26.1  </td><td>41.1  </td><td>113.2 </td><td> 99.2 </td><td>107.5 </td><td>61.7  </td><td>42.3  </td><td>23.2  </td><td>32.9  </td><td>30.8  </td><td>20.4  </td></tr>\n",
       "\t<tr><th scope=row>182</th><td>182   </td><td> 0.0  </td><td>1.1089</td><td>40    </td><td>118.50</td><td>68.00 </td><td>18.1  </td><td>33.8  </td><td> 79.3 </td><td> 69.4 </td><td> 85.0 </td><td>47.2  </td><td>33.5  </td><td>20.2  </td><td>27.7  </td><td>24.6  </td><td>16.5  </td></tr>\n",
       "</tbody>\n",
       "</table>\n"
      ],
      "text/latex": [
       "\\begin{tabular}{r|lllllllllllllllll}\n",
       "  & IDNO & BODYFAT & DENSITY & AGE & WEIGHT & HEIGHT & ADIPOSITY & NECK & CHEST & ABDOMEN & HIP & THIGH & KNEE & ANKLE & BICEPS & FOREARM & WRIST\\\\\n",
       "\\hline\n",
       "\t39 &  39    & 33.8   & 1.0202 & 46     & 363.15 & 72.25  & 48.9   & 51.2   & 136.2  & 148.1  & 147.7  & 87.3   & 49.1   & 29.6   & 45.0   & 29.0   & 21.4  \\\\\n",
       "\t42 &  42    & 31.7   & 1.0250 & 44     & 205.00 & 29.50  & 29.9   & 36.6   & 106.0  & 104.3  & 115.5  & 70.6   & 42.5   & 23.7   & 33.6   & 28.7   & 17.4  \\\\\n",
       "\t48 &  48    &  6.4   & 1.0665 & 39     & 148.50 & 71.25  & 20.6   & 34.6   &  89.8  &  79.5  &  92.7  & 52.7   & 37.5   & 21.9   & 28.8   & 26.8   & 17.9  \\\\\n",
       "\t76 &  76    & 18.3   & 1.0666 & 61     & 148.25 & 67.50  & 22.9   & 36.0   &  91.6  &  81.8  &  94.8  & 54.5   & 37.0   & 21.4   & 29.3   & 27.0   & 18.3  \\\\\n",
       "\t96 &  96    & 17.3   & 1.0991 & 53     & 224.50 & 77.75  & 26.1   & 41.1   & 113.2  &  99.2  & 107.5  & 61.7   & 42.3   & 23.2   & 32.9   & 30.8   & 20.4  \\\\\n",
       "\t182 & 182    &  0.0   & 1.1089 & 40     & 118.50 & 68.00  & 18.1   & 33.8   &  79.3  &  69.4  &  85.0  & 47.2   & 33.5   & 20.2   & 27.7   & 24.6   & 16.5  \\\\\n",
       "\\end{tabular}\n"
      ],
      "text/markdown": [
       "\n",
       "| <!--/--> | IDNO | BODYFAT | DENSITY | AGE | WEIGHT | HEIGHT | ADIPOSITY | NECK | CHEST | ABDOMEN | HIP | THIGH | KNEE | ANKLE | BICEPS | FOREARM | WRIST |\n",
       "|---|---|---|---|---|---|---|---|---|---|---|---|---|---|---|---|---|---|\n",
       "| 39 |  39    | 33.8   | 1.0202 | 46     | 363.15 | 72.25  | 48.9   | 51.2   | 136.2  | 148.1  | 147.7  | 87.3   | 49.1   | 29.6   | 45.0   | 29.0   | 21.4   |\n",
       "| 42 |  42    | 31.7   | 1.0250 | 44     | 205.00 | 29.50  | 29.9   | 36.6   | 106.0  | 104.3  | 115.5  | 70.6   | 42.5   | 23.7   | 33.6   | 28.7   | 17.4   |\n",
       "| 48 |  48    |  6.4   | 1.0665 | 39     | 148.50 | 71.25  | 20.6   | 34.6   |  89.8  |  79.5  |  92.7  | 52.7   | 37.5   | 21.9   | 28.8   | 26.8   | 17.9   |\n",
       "| 76 |  76    | 18.3   | 1.0666 | 61     | 148.25 | 67.50  | 22.9   | 36.0   |  91.6  |  81.8  |  94.8  | 54.5   | 37.0   | 21.4   | 29.3   | 27.0   | 18.3   |\n",
       "| 96 |  96    | 17.3   | 1.0991 | 53     | 224.50 | 77.75  | 26.1   | 41.1   | 113.2  |  99.2  | 107.5  | 61.7   | 42.3   | 23.2   | 32.9   | 30.8   | 20.4   |\n",
       "| 182 | 182    |  0.0   | 1.1089 | 40     | 118.50 | 68.00  | 18.1   | 33.8   |  79.3  |  69.4  |  85.0  | 47.2   | 33.5   | 20.2   | 27.7   | 24.6   | 16.5   |\n",
       "\n"
      ],
      "text/plain": [
       "    IDNO BODYFAT DENSITY AGE WEIGHT HEIGHT ADIPOSITY NECK CHEST ABDOMEN HIP  \n",
       "39   39  33.8    1.0202  46  363.15 72.25  48.9      51.2 136.2 148.1   147.7\n",
       "42   42  31.7    1.0250  44  205.00 29.50  29.9      36.6 106.0 104.3   115.5\n",
       "48   48   6.4    1.0665  39  148.50 71.25  20.6      34.6  89.8  79.5    92.7\n",
       "76   76  18.3    1.0666  61  148.25 67.50  22.9      36.0  91.6  81.8    94.8\n",
       "96   96  17.3    1.0991  53  224.50 77.75  26.1      41.1 113.2  99.2   107.5\n",
       "182 182   0.0    1.1089  40  118.50 68.00  18.1      33.8  79.3  69.4    85.0\n",
       "    THIGH KNEE ANKLE BICEPS FOREARM WRIST\n",
       "39  87.3  49.1 29.6  45.0   29.0    21.4 \n",
       "42  70.6  42.5 23.7  33.6   28.7    17.4 \n",
       "48  52.7  37.5 21.9  28.8   26.8    17.9 \n",
       "76  54.5  37.0 21.4  29.3   27.0    18.3 \n",
       "96  61.7  42.3 23.2  32.9   30.8    20.4 \n",
       "182 47.2  33.5 20.2  27.7   24.6    16.5 "
      ]
     },
     "metadata": {},
     "output_type": "display_data"
    }
   ],
   "source": [
    "data[c(39,42,48, 76, 96, 182),]"
   ]
  },
  {
   "cell_type": "code",
   "execution_count": 45,
   "metadata": {},
   "outputs": [],
   "source": [
    "#Full Model Adjustment\n",
    "model <- lm(BODYFAT~AGE+WEIGHT+HEIGHT+NECK+CHEST+ABDOMEN+HIP+THIGH+KNEE+ANKLE+BICEPS+FOREARM+WRIST+ADIPOSITY,dataset)\n",
    "model_dep <- lm(ADIPOSITY~HEIGHT+WEIGHT,dataset)\n",
    "res <- residuals(model_dep)\n",
    "model_adj <- lm(BODYFAT~AGE+WEIGHT+HEIGHT+NECK+CHEST+ABDOMEN+HIP+THIGH+KNEE+ANKLE+BICEPS+FOREARM+WRIST+res,dataset)"
   ]
  },
  {
   "cell_type": "markdown",
   "metadata": {},
   "source": [
    "# Step 2: Feature Selection\n",
    "\n",
    "First, we fit a linear regression model of all the 14 variables on the response variable, the bodyfat percentage. The P valus of Abdomen, age and wrist are significant. The adjusted R-squared is 0.7298, the F statistics is 49.23, and the p-value is <2.2e-16. There are two concerns here: 1. Some of the body circumferences measurement seem to be useless and less important, so we need to do further feature selection over the 14 variables. 2.While looking at the variables, there is clearly strong association between weight, height and adiposity, thus we may need to deal with the dependencies in the dataset.\n",
    "\n",
    "In order to eliminate the dependencies in weight, height and adiposity, we regress the weight and height on the adiposity. In the summary table of Adiposity ~ Weight + Height, the adjusted R-squared is 0.9868, the F stats is 9324, and the p-value is <2.2e-16. Then, we add the residuals of the model as a predictor in our full model, and remove the adiposity. Then, we refit our regression model, the adjusted R-squared is 0.7298, the F-Statistics is 49.23, and the p-value is <2.2e-16. \n",
    "\n",
    "Next, we move to the feature selection. We adopted several approaches here: BIC selection, Lasso feature selection, Boruta Algorithm Selection, and relative importance of different vairables contribution to R-square. Here is the overview of feature Selection Result:\n",
    "\n",
    " |Approach         | Selected Features            \n",
    "| ------------- | -------------:|\n",
    "| P Value   |Abdomen, Wrist  |\n",
    "| R-Squared Relative Importance   |Abdomen, Chest | \n",
    "| BIC |Abdomen, Height, Wrist      |  \n",
    "| Subset Selection |Abdomen, Weight   | \n",
    "| Lasso |Abdomen, Height|\n",
    "| Boruta Algorithm |Abdomen, Chest|"
   ]
  },
  {
   "cell_type": "markdown",
   "metadata": {},
   "source": [
    "## Boruta Algorithm\n",
    "We use Boruta algorithm to capture all the important features in our dataset with respect to an outcome variable. The selected feature are Abdomen and Chest. "
   ]
  },
  {
   "cell_type": "code",
   "execution_count": 61,
   "metadata": {},
   "outputs": [],
   "source": [
    "#boruta_output <- Boruta(BODYFAT ~ AGE+WEIGHT+HEIGHT+NECK+CHEST+ABDOMEN+HIP+THIGH+KNEE+ANKLE+BICEPS+FOREARM+WRIST+res, data=na.omit(dataset), doTrace=0)  \n",
    "#boruta_signif <- getSelectedAttributes(boruta_output, withTentative = TRUE)\n",
    "#print(boruta_signif)\n",
    "#roughFixMod <- TentativeRoughFix(boruta_output)\n",
    "#boruta_signif <- getSelectedAttributes(roughFixMod)\n",
    "#imps <- attStats(roughFixMod)\n",
    "#imps2 = imps[imps$decision != 'Rejected', c('meanImp', 'decision')]\n",
    "#Top five variables\n",
    "#head(imps2[order(-imps2$meanImp), ])\n",
    "#Graph\n",
    "#plot(boruta_output, cex.axis=.7, las=2, xlab=\"\", main=\"Variable Importance\") "
   ]
  },
  {
   "cell_type": "markdown",
   "metadata": {},
   "source": [
    "<img src=\"boruta.png\" width=400>"
   ]
  },
  {
   "cell_type": "markdown",
   "metadata": {},
   "source": [
    "## BIC Stepwise Backward Selection\n",
    "\n",
    "The selected model is $$BODYFAT\\sim WRIST+HEIGHT+ABDOMEN$$"
   ]
  },
  {
   "cell_type": "code",
   "execution_count": 54,
   "metadata": {},
   "outputs": [],
   "source": [
    "# model_bic=step(model_adj,direction = \"both\",k=log(nrow(dataset)))"
   ]
  },
  {
   "cell_type": "markdown",
   "metadata": {},
   "source": [
    "## Lasso Regression\n",
    "Lasso regression allows you to do variable selection and regularization while you are building the model. We applied normalization to every features the data set has, so every feature has the same scale now. Below, we listed three models with two variables after lasso selection. We decide to use the last with largest $R^2$ which uses adbomen and height as two predictors."
   ]
  },
  {
   "cell_type": "code",
   "execution_count": 48,
   "metadata": {},
   "outputs": [
    {
     "name": "stdout",
     "output_type": "stream",
     "text": [
      "   variable R_squared    lambda\n",
      "10        2 0.6491171 1.1409567\n",
      "11        2 0.6664666 0.9454456\n",
      "12        2 0.6783776 0.7834366\n"
     ]
    }
   ],
   "source": [
    "#Lasso Selection\n",
    "features <- as.matrix(dataset[,c(-1,-2,-3)])\n",
    "response <- as.matrix(dataset[,2])\n",
    "model_lasso <- glmnet(x = features, y = response, family = \"gaussian\", nlambda = 50, alpha = 1, standardize = T)\n",
    "#cat(\"Results of Lasso regression with two variables:\\n\")\n",
    "results <- data.frame(variable = model_lasso$df, R_squared = model_lasso$dev.ratio,\n",
    "                      lambda = model_lasso$lambda)\n",
    "print(results[c(10,11,12),])"
   ]
  },
  {
   "cell_type": "markdown",
   "metadata": {},
   "source": [
    "## Best Subset Selection\n",
    "Here we choos best subset selection to select the top 2 significant variables and see if it is coherent with the result of other selection methods. The results are showed above. It automatically listed eight best models with variables number from 1 to 8. The selected two variables are Weight and Abdomen. "
   ]
  },
  {
   "cell_type": "code",
   "execution_count": 49,
   "metadata": {
    "scrolled": true
   },
   "outputs": [
    {
     "data": {
      "text/html": [
       "<table>\n",
       "<thead><tr><th></th><th scope=col>AGE</th><th scope=col>WEIGHT</th><th scope=col>HEIGHT</th><th scope=col>NECK</th><th scope=col>CHEST</th><th scope=col>ABDOMEN</th><th scope=col>HIP</th><th scope=col>THIGH</th><th scope=col>KNEE</th><th scope=col>ANKLE</th><th scope=col>BICEPS</th><th scope=col>FOREARM</th><th scope=col>WRIST</th><th scope=col>res</th></tr></thead>\n",
       "<tbody>\n",
       "\t<tr><th scope=row>1  ( 1 )</th><td> </td><td> </td><td> </td><td> </td><td> </td><td>*</td><td> </td><td> </td><td> </td><td> </td><td> </td><td> </td><td> </td><td> </td></tr>\n",
       "\t<tr><th scope=row>2  ( 1 )</th><td> </td><td>*</td><td> </td><td> </td><td> </td><td>*</td><td> </td><td> </td><td> </td><td> </td><td> </td><td> </td><td> </td><td> </td></tr>\n",
       "\t<tr><th scope=row>3  ( 1 )</th><td> </td><td>*</td><td> </td><td> </td><td> </td><td>*</td><td> </td><td> </td><td> </td><td> </td><td> </td><td> </td><td>*</td><td> </td></tr>\n",
       "\t<tr><th scope=row>4  ( 1 )</th><td>*</td><td> </td><td>*</td><td> </td><td> </td><td>*</td><td> </td><td> </td><td> </td><td> </td><td> </td><td> </td><td>*</td><td> </td></tr>\n",
       "\t<tr><th scope=row>5  ( 1 )</th><td>*</td><td> </td><td>*</td><td> </td><td>*</td><td>*</td><td> </td><td> </td><td> </td><td> </td><td> </td><td> </td><td>*</td><td> </td></tr>\n",
       "\t<tr><th scope=row>6  ( 1 )</th><td>*</td><td> </td><td>*</td><td> </td><td>*</td><td>*</td><td> </td><td> </td><td> </td><td> </td><td>*</td><td> </td><td>*</td><td> </td></tr>\n",
       "\t<tr><th scope=row>7  ( 1 )</th><td>*</td><td> </td><td>*</td><td>*</td><td>*</td><td>*</td><td> </td><td> </td><td> </td><td> </td><td>*</td><td> </td><td>*</td><td> </td></tr>\n",
       "\t<tr><th scope=row>8  ( 1 )</th><td>*</td><td> </td><td>*</td><td>*</td><td>*</td><td>*</td><td> </td><td> </td><td> </td><td> </td><td>*</td><td>*</td><td>*</td><td> </td></tr>\n",
       "</tbody>\n",
       "</table>\n"
      ],
      "text/latex": [
       "\\begin{tabular}{r|llllllllllllll}\n",
       "  & AGE & WEIGHT & HEIGHT & NECK & CHEST & ABDOMEN & HIP & THIGH & KNEE & ANKLE & BICEPS & FOREARM & WRIST & res\\\\\n",
       "\\hline\n",
       "\t1  ( 1 ) &   &   &   &   &   & * &   &   &   &   &   &   &   &  \\\\\n",
       "\t2  ( 1 ) &   & * &   &   &   & * &   &   &   &   &   &   &   &  \\\\\n",
       "\t3  ( 1 ) &   & * &   &   &   & * &   &   &   &   &   &   & * &  \\\\\n",
       "\t4  ( 1 ) & * &   & * &   &   & * &   &   &   &   &   &   & * &  \\\\\n",
       "\t5  ( 1 ) & * &   & * &   & * & * &   &   &   &   &   &   & * &  \\\\\n",
       "\t6  ( 1 ) & * &   & * &   & * & * &   &   &   &   & * &   & * &  \\\\\n",
       "\t7  ( 1 ) & * &   & * & * & * & * &   &   &   &   & * &   & * &  \\\\\n",
       "\t8  ( 1 ) & * &   & * & * & * & * &   &   &   &   & * & * & * &  \\\\\n",
       "\\end{tabular}\n"
      ],
      "text/markdown": [
       "\n",
       "| <!--/--> | AGE | WEIGHT | HEIGHT | NECK | CHEST | ABDOMEN | HIP | THIGH | KNEE | ANKLE | BICEPS | FOREARM | WRIST | res |\n",
       "|---|---|---|---|---|---|---|---|---|---|---|---|---|---|---|\n",
       "| 1  ( 1 ) |   |   |   |   |   | * |   |   |   |   |   |   |   |   |\n",
       "| 2  ( 1 ) |   | * |   |   |   | * |   |   |   |   |   |   |   |   |\n",
       "| 3  ( 1 ) |   | * |   |   |   | * |   |   |   |   |   |   | * |   |\n",
       "| 4  ( 1 ) | * |   | * |   |   | * |   |   |   |   |   |   | * |   |\n",
       "| 5  ( 1 ) | * |   | * |   | * | * |   |   |   |   |   |   | * |   |\n",
       "| 6  ( 1 ) | * |   | * |   | * | * |   |   |   |   | * |   | * |   |\n",
       "| 7  ( 1 ) | * |   | * | * | * | * |   |   |   |   | * |   | * |   |\n",
       "| 8  ( 1 ) | * |   | * | * | * | * |   |   |   |   | * | * | * |   |\n",
       "\n"
      ],
      "text/plain": [
       "         AGE WEIGHT HEIGHT NECK CHEST ABDOMEN HIP THIGH KNEE ANKLE BICEPS\n",
       "1  ( 1 )                              *                                  \n",
       "2  ( 1 )     *                        *                                  \n",
       "3  ( 1 )     *                        *                                  \n",
       "4  ( 1 ) *          *                 *                                  \n",
       "5  ( 1 ) *          *           *     *                                  \n",
       "6  ( 1 ) *          *           *     *                            *     \n",
       "7  ( 1 ) *          *      *    *     *                            *     \n",
       "8  ( 1 ) *          *      *    *     *                            *     \n",
       "         FOREARM WRIST res\n",
       "1  ( 1 )                  \n",
       "2  ( 1 )                  \n",
       "3  ( 1 )         *        \n",
       "4  ( 1 )         *        \n",
       "5  ( 1 )         *        \n",
       "6  ( 1 )         *        \n",
       "7  ( 1 )         *        \n",
       "8  ( 1 ) *       *        "
      ]
     },
     "metadata": {},
     "output_type": "display_data"
    }
   ],
   "source": [
    "#Subset Selection\n",
    "dataset_bss <- dataset[,c(-1,-3)]\n",
    "model_bss <- regsubsets(BODYFAT ~ AGE+WEIGHT+HEIGHT+NECK+CHEST+ABDOMEN+HIP+THIGH+KNEE+ANKLE+BICEPS+FOREARM+WRIST+res, data = dataset_bss)\n",
    "summary(model_bss)$outmat"
   ]
  },
  {
   "cell_type": "markdown",
   "metadata": {},
   "source": [
    "## R-Sqaured Relative Importance\n"
   ]
  },
  {
   "cell_type": "code",
   "execution_count": 50,
   "metadata": {},
   "outputs": [
    {
     "data": {
      "text/html": [
       "<dl class=dl-horizontal>\n",
       "\t<dt>ABDOMEN</dt>\n",
       "\t\t<dd>0.251</dd>\n",
       "\t<dt>CHEST</dt>\n",
       "\t\t<dd>0.093</dd>\n",
       "\t<dt>WEIGHT</dt>\n",
       "\t\t<dd>0.071</dd>\n",
       "\t<dt>HIP</dt>\n",
       "\t\t<dd>0.069</dd>\n",
       "\t<dt>THIGH</dt>\n",
       "\t\t<dd>0.045</dd>\n",
       "\t<dt>AGE</dt>\n",
       "\t\t<dd>0.04</dd>\n",
       "\t<dt>KNEE</dt>\n",
       "\t\t<dd>0.032</dd>\n",
       "\t<dt>NECK</dt>\n",
       "\t\t<dd>0.031</dd>\n",
       "\t<dt>HEIGHT</dt>\n",
       "\t\t<dd>0.03</dd>\n",
       "\t<dt>BICEPS</dt>\n",
       "\t\t<dd>0.028</dd>\n",
       "\t<dt>WRIST</dt>\n",
       "\t\t<dd>0.026</dd>\n",
       "\t<dt>FOREARM</dt>\n",
       "\t\t<dd>0.015</dd>\n",
       "\t<dt>ANKLE</dt>\n",
       "\t\t<dd>0.008</dd>\n",
       "\t<dt>res</dt>\n",
       "\t\t<dd>0.006</dd>\n",
       "</dl>\n"
      ],
      "text/latex": [
       "\\begin{description*}\n",
       "\\item[ABDOMEN] 0.251\n",
       "\\item[CHEST] 0.093\n",
       "\\item[WEIGHT] 0.071\n",
       "\\item[HIP] 0.069\n",
       "\\item[THIGH] 0.045\n",
       "\\item[AGE] 0.04\n",
       "\\item[KNEE] 0.032\n",
       "\\item[NECK] 0.031\n",
       "\\item[HEIGHT] 0.03\n",
       "\\item[BICEPS] 0.028\n",
       "\\item[WRIST] 0.026\n",
       "\\item[FOREARM] 0.015\n",
       "\\item[ANKLE] 0.008\n",
       "\\item[res] 0.006\n",
       "\\end{description*}\n"
      ],
      "text/markdown": [
       "ABDOMEN\n",
       ":   0.251CHEST\n",
       ":   0.093WEIGHT\n",
       ":   0.071HIP\n",
       ":   0.069THIGH\n",
       ":   0.045AGE\n",
       ":   0.04KNEE\n",
       ":   0.032NECK\n",
       ":   0.031HEIGHT\n",
       ":   0.03BICEPS\n",
       ":   0.028WRIST\n",
       ":   0.026FOREARM\n",
       ":   0.015ANKLE\n",
       ":   0.008res\n",
       ":   0.006\n",
       "\n"
      ],
      "text/plain": [
       "ABDOMEN   CHEST  WEIGHT     HIP   THIGH     AGE    KNEE    NECK  HEIGHT  BICEPS \n",
       "  0.251   0.093   0.071   0.069   0.045   0.040   0.032   0.031   0.030   0.028 \n",
       "  WRIST FOREARM   ANKLE     res \n",
       "  0.026   0.015   0.008   0.006 "
      ]
     },
     "metadata": {},
     "output_type": "display_data"
    }
   ],
   "source": [
    "relImportance <- calc.relimp(model_adj, type = \"lmg\", rela = F)  \n",
    "# Sort\n",
    "#cat('Relative Importances: \\n')\n",
    "sort(round(relImportance$lmg, 3), decreasing=TRUE)\n",
    "#bootsub <- boot.relimp(BODYFAT~., data=dataset,b = 1000, type = 'lmg', rank = TRUE, diff = TRUE)\n",
    "#plot(booteval.relimp(bootsub, level=.95))"
   ]
  },
  {
   "cell_type": "markdown",
   "metadata": {},
   "source": [
    "# Step 3: Model Selection\n",
    "\n",
    "After the feature selection, we have several candidate models:\n",
    "  \n",
    " |Models         | R-Squared           | F Statistics   \n",
    " | ------------- |:-------------:| ------:|\n",
    "| BODYFAT~ABDOMEN+WRIST+HEIGHT | 0.7229 |  218.4 |\n",
    "| BODYFAT~ABDOMEN+CHEST    | 0.6827 | 269.9 |\n",
    "| BODYFAT~ABDOMEN+HEIGHT     | 0.7028      | 296.7  |\n",
    "| BODYFAT~ABDOMEN+WEIGHT |   0.7115    |   309.3  |\n",
    "| BODYFAT~ABDOMEN+WRIST  |  0.7079     |  304      |\n",
    "| BODYFAT~ABDOMEN        |   0.6664          |   500   |\n",
    "\n",
    "We wanna find the optimized model by 10-fold cross validation. The MSE of four models are as below.\n",
    "\n",
    "  |Models         | MSE (Test)           | MSE(Train)   \n",
    "| ------------- |:-------------:| ------:|\n",
    "| BODYFAT~ABDOMEN+WRIST+HEIGHT | 16.40444 | 16.37404  |\n",
    "| BODYFAT~ABDOMEN+CHEST    | 18.66096 | 18.63678 |\n",
    "| BODYFAT~ABDOMEN+HEIGHT     | 17.52315      | 17.49791  |\n",
    "| BODYFAT~ABDOMEN+WEIGHT |   16.97938    |   16.95667  |\n",
    "| BODYFAT~ABDOMEN+WRIST  |  17.18307     |  17.16051      |\n",
    "| BODYFAT~ABDOMEN        |   19.55060         |   19.53293   |\n"
   ]
  },
  {
   "cell_type": "code",
   "execution_count": 51,
   "metadata": {},
   "outputs": [
    {
     "name": "stdout",
     "output_type": "stream",
     "text": [
      "                 model Training  Testing Times\n",
      "1       Weight&Abdomen 16.80562 16.78358     1\n",
      "2       Height&Abdomen 17.43145 17.40649     0\n",
      "3        Chest&Abdomen 18.46564 18.44130     0\n",
      "4        Wrist&Abdomen 16.98726 16.96541     0\n",
      "5              Abdomen 19.36233 19.34486     0\n",
      "6 Abdomen&Wrist&Height 16.29474 16.26408   399\n"
     ]
    }
   ],
   "source": [
    "# model with weight and abdomen\n",
    "model_weight_abdo <- glm(BODYFAT ~ WEIGHT + ABDOMEN, data = dataset)\n",
    "# model with height and abdomen\n",
    "model_height_abdo <- glm(BODYFAT ~ HEIGHT + ABDOMEN, data = dataset)\n",
    "# model with chest and abdomen\n",
    "model_chest_abdo <- glm(BODYFAT ~ CHEST + ABDOMEN, data = dataset)\n",
    "# model with wrist and abdomen\n",
    "model_wrist_abdo <- glm(BODYFAT ~ WRIST + ABDOMEN, data = dataset)\n",
    "model_bic <- glm(BODYFAT ~ WRIST + ABDOMEN + HEIGHT, data = dataset)\n",
    "# model with abdomen only\n",
    "model_abdomen <- glm(BODYFAT ~ ABDOMEN, data = dataset)\n",
    "# repeat 10-fold cross validation for 100 times\n",
    "n = 400\n",
    "cv.err.weight <- matrix(0, n, 2)\n",
    "cv.err.height <- matrix(0, n, 2)\n",
    "cv.err.chest <- matrix(0, n, 2)\n",
    "cv.err.wrist <- matrix(0, n, 2)\n",
    "cv.err.abdomen <- matrix(0, n, 2)\n",
    "cv.err.bic <- matrix(0, n, 2)\n",
    "times <- rep(0, 6)\n",
    "for (i in 1:n){\n",
    "    cv.err.weight[i,] <- cv.glm(dataset, model_weight_abdo, K = 10)$delta\n",
    "    cv.err.height[i,] <- cv.glm(dataset, model_height_abdo, K = 10)$delta\n",
    "    cv.err.chest[i,] <- cv.glm(dataset, model_chest_abdo, K = 10)$delta\n",
    "    cv.err.wrist[i,] <- cv.glm(dataset, model_wrist_abdo, K = 10)$delta\n",
    "    cv.err.abdomen[i,] <- cv.glm(dataset, model_abdomen, K = 10)$delta\n",
    "    cv.err.bic[i,] <- cv.glm(dataset, model_bic, K = 10)$delta\n",
    "    min = which.min(c(cv.err.weight[i,2], cv.err.height[i,2], cv.err.chest[i,2], \n",
    "                      cv.err.wrist[i,2], cv.err.abdomen[i,2], cv.err.bic[i,2]))\n",
    "    times[min] = times[min] + 1\n",
    "}\n",
    "cv.results <- data.frame(model = c(\"Weight&Abdomen\", \"Height&Abdomen\", \"Chest&Abdomen\", \"Wrist&Abdomen\",\"Abdomen\",\"Abdomen&Wrist&Height\"),\n",
    "                         Training = rep(0,6), Testing = rep(0,6), Times = times)\n",
    "cv.results[1,c(2,3)] = c(mean(cv.err.weight[,1]), mean(cv.err.weight[,2]))\n",
    "cv.results[2,c(2,3)] = c(mean(cv.err.height[,1]), mean(cv.err.height[,2]))\n",
    "cv.results[3,c(2,3)] = c(mean(cv.err.chest[,1]), mean(cv.err.chest[,2]))\n",
    "cv.results[4,c(2,3)] = c(mean(cv.err.wrist[,1]), mean(cv.err.wrist[,2]))\n",
    "cv.results[5,c(2,3)] = c(mean(cv.err.abdomen[,1]), mean(cv.err.abdomen[,2]))\n",
    "cv.results[6,c(2,3)] = c(mean(cv.err.bic[,1]), mean(cv.err.bic[,2]))\n",
    "print(cv.results)"
   ]
  },
  {
   "cell_type": "markdown",
   "metadata": {},
   "source": [
    "# Step 4: Final Model Interpretation and Diagnostic\n",
    "\n",
    "Our selected model is $$BODYFAT \\sim -42+0.9ABDOMEN-0.1WEIGHT$$ The bodyfat can be calculated as the above formula. The rule of thumb:\n",
    "* If you want to calculate your bodyfat, measure your abdomen and weight circumference, and calculate 90% abdomen minus 10% weight and minus 42, then you will have your estimated bodyfat.\n",
    "\n",
    "## Model Interpretation\n",
    "As we noticed that the coefficient of abdomen is 0.89470 meaning that as abdomen increased by one unit, the bodyfat will be increased by 0.89470, while as weight increased by one unit, the bodyfat will be decreased by 0.1241. The negative coefficient of weight can be explained that there is tradeoff between abdomen and weight. In real life, skinny people may have high bodyfat.\n",
    "\n",
    "## Model diagnostic\n",
    "1.Linear relationship: from the Residuals vs Fitted value plot, an approxmately horizontal line, but no distinct pattern is an indication for a linear relationship, which satisfy linearity assumption.  \n",
    "\n",
    "2.Multivariate normality: residuals points mostly follow the dashed line except few head and tail points which is acceptable to retain the normality assumption.  \n",
    "\n",
    "3.No multicollinearity: the VIF of Abdomen and Weight is 4.24  which is below 5, so there is no significant effect of multicollinearity. \n",
    "\n",
    "4.Homoscedasticity: In the residual plot, the assumption is that variance is a constant can be retained since there is no certain trend or pattern of variance with index increase.  \n",
    "\n",
    "5.Influential points: in the diagnostics plots, there are several points which stand out, 181 and 206. We remove the two points one by one, however, the increase of R-squared is very limited, so we decide to keep the two points.\n",
    "\n",
    "6.Robustness: we rebuild our model including 39th observation which is a outlier and compare the model with our original model to test robustness. We realize that the coefficients change is smaller than 0.01 and the p-values are still significant."
   ]
  },
  {
   "cell_type": "code",
   "execution_count": 60,
   "metadata": {},
   "outputs": [],
   "source": [
    "#final <- lm(BODYFAT~ABDOMEN+WEIGHT,dataset)\n",
    "#par(mfrow = c(2,2))\n",
    "#plot(final)\n",
    "#ols_plot_cooksd_bar(final)"
   ]
  },
  {
   "cell_type": "markdown",
   "metadata": {},
   "source": [
    "<img src=\"diag.png\" width=400>"
   ]
  },
  {
   "cell_type": "markdown",
   "metadata": {},
   "source": [
    "# Strength and Weakness\n",
    "## Strength\n",
    "\n",
    "* Our model is simple, explicit and interpretable. \n",
    "* We only have two predictors which makes the interpretation easier. \n",
    "\n",
    "## Weakness\n",
    "\n",
    "* This dataset contains biased sample, thus our model may only be applicable to limited range of people. Our model can only be used be predict male bodyfat, since our dataset only contains male observations; our model only contains male age from 20 to 80, and the distribution over various age difference are uneven, thus our model may not be effectively generalized.\n",
    "\n",
    "* The coefficient of weight is negative. If one has light weight but with large abdomen circumference measurements, our model prediction may not be accurate.\n"
   ]
  },
  {
   "cell_type": "markdown",
   "metadata": {},
   "source": [
    "# Contribution\n",
    "\n",
    "* Fangfei Lin: Jupytor Notebook Editing, Buruto Model Building, Slides Editing\n",
    "* Lu Chen: Data Cleaning, Slides Editing, Reference Research, Outlier detection\n",
    "* Qintao Ying: Lasso Regression, R-shiny, Cross-Validation\n",
    "* Yansong Mao: Model Diagnostic, Stepwise Methods, Model Selection"
   ]
  },
  {
   "cell_type": "markdown",
   "metadata": {},
   "source": [
    "# Reference\n",
    "[1] Janjic Jelena, Baltic ZM, Glisic Milica, Icanovic Jelena, Boskovic Marija, Popovic Milka and Lovrenovic Mirjana,  $ Relationship\\ between\\ Body\\ Mass\\ Index\\ and\\ Body\\ Fat\\ Percentage\\ among\\ Adolescents\\ from\\ Serbian\\ Republic $, 2016\n",
    "\n"
   ]
  }
 ],
 "metadata": {
  "kernelspec": {
   "display_name": "R",
   "language": "R",
   "name": "ir"
  },
  "language_info": {
   "codemirror_mode": "r",
   "file_extension": ".r",
   "mimetype": "text/x-r-source",
   "name": "R",
   "pygments_lexer": "r",
   "version": "3.6.1"
  }
 },
 "nbformat": 4,
 "nbformat_minor": 2
}
